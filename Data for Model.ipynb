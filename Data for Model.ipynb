{
 "cells": [
  {
   "cell_type": "markdown",
   "metadata": {},
   "source": [
    "# Get data (X, y) for ANN model\n",
    "- X (matrix of observations): cols = PM10, WS, WD, RH, Temp\n",
    "- y (vector): daily change in SR"
   ]
  },
  {
   "cell_type": "code",
   "execution_count": 1,
   "metadata": {},
   "outputs": [],
   "source": [
    "import pandas as pd\n",
    "import numpy as np"
   ]
  },
  {
   "cell_type": "code",
   "execution_count": 2,
   "metadata": {},
   "outputs": [],
   "source": [
    "# Mojave test facility information\n",
    "location = {'latitude': 34.987655,\n",
    "            'longitude': -118.324051,\n",
    "            'altitude': 1034.796,\n",
    "            'timezone_dls': 'America/Los_Angeles',\n",
    "            'timezone': 'Etc/GMT+8'}"
   ]
  },
  {
   "cell_type": "markdown",
   "metadata": {},
   "source": [
    "## y (daily change in SR):\n",
    "- read and filter\n",
    "- remove rain and cleaning days"
   ]
  },
  {
   "cell_type": "code",
   "execution_count": 3,
   "metadata": {},
   "outputs": [],
   "source": [
    "# read data from saved csv files (originally parquet files)\n",
    "df_data = pd.read_csv(r'C:\\Users\\sandra.villamar\\OneDrive - EDF Renewable Energy\\Projects\\Soiling Study\\df_data.csv', \n",
    "                      index_col='date_time')\n",
    "df_flag = pd.read_csv(r'C:\\Users\\sandra.villamar\\OneDrive - EDF Renewable Energy\\Projects\\Soiling Study\\df_flag.csv', \n",
    "                      index_col='date_time')"
   ]
  },
  {
   "cell_type": "code",
   "execution_count": 4,
   "metadata": {},
   "outputs": [],
   "source": [
    "# After reading data from csv, datetime index type is changed to index\n",
    "# So must convert index back to datetime index\n",
    "new_ind = pd.Series(df_data.index)\n",
    "\n",
    "for i in range(len(df_data)):\n",
    "    new_ind[i] = pd.to_datetime(new_ind[i]).tz_convert(location['timezone'])\n",
    "    \n",
    "#set new index\n",
    "df_data.set_index(new_ind, inplace=True)\n",
    "df_flag.set_index(new_ind, inplace=True)"
   ]
  },
  {
   "cell_type": "code",
   "execution_count": 5,
   "metadata": {},
   "outputs": [],
   "source": [
    "# Replace flagged data with NaN\n",
    "for col in ['Soiling_ISC_1', 'Soiling_ISC_2', 'Rainfall']:\n",
    "    df_data.loc[ df_flag[col].isin([1,2,3,4]), col ] = np.nan"
   ]
  },
  {
   "cell_type": "code",
   "execution_count": 6,
   "metadata": {},
   "outputs": [],
   "source": [
    "# remove soiling current values < 0.5\n",
    "df_data.loc[df_data['Soiling_ISC_1'] < 0.5] = np.nan\n",
    "df_data.loc[df_data['Soiling_ISC_2'] < 0.5] = np.nan"
   ]
  },
  {
   "cell_type": "code",
   "execution_count": 7,
   "metadata": {},
   "outputs": [],
   "source": [
    "## Create new df with daily data\n",
    "\n",
    "# Soiling_ISC_1\n",
    "soil1_ser = pd.Series(df_data['Soiling_ISC_1'], index=df_data.index)\n",
    "df_daily = pd.DataFrame(soil1_ser.resample('D').sum())\n",
    "# if < 200 min available for the day, replace that day of data with NaN\n",
    "under_threshold = soil1_ser.resample('D').count() < 200\n",
    "df_daily.loc[under_threshold] = np.nan\n",
    "\n",
    "# Soiling_ISC_2\n",
    "soil2_ser = pd.Series(df_data['Soiling_ISC_2'], index=df_data.index)\n",
    "df_daily['Soiling_ISC_2'] = soil2_ser.resample('D').sum()\n",
    "# if < 200 min available for the day, replace that day of data with NaN\n",
    "under_threshold = soil2_ser.resample('D').count() < 200\n",
    "df_daily.loc[under_threshold,'Soiling_ISC_2'] = np.nan\n",
    "\n",
    "# Rainfall\n",
    "rain_ser = pd.Series(df_data['Rainfall'], index=df_data.index)\n",
    "df_daily['Rainfall'] = rain_ser.resample('D').sum()\n",
    "under_threshold = rain_ser.resample('D').count() < 200\n",
    "df_daily.loc[under_threshold,'Rainfall'] = np.nan"
   ]
  },
  {
   "cell_type": "code",
   "execution_count": 8,
   "metadata": {},
   "outputs": [],
   "source": [
    "# remove dates where either ISC_1 or ISC_2 is NaN\n",
    "df_daily.loc[df_daily['Soiling_ISC_1'].isna(), 'Soiling_ISC_2'] = np.nan\n",
    "df_daily.loc[df_daily['Soiling_ISC_2'].isna(), 'Soiling_ISC_1'] = np.nan"
   ]
  },
  {
   "cell_type": "code",
   "execution_count": 46,
   "metadata": {},
   "outputs": [],
   "source": [
    "# get soiling ratio\n",
    "soiling_ratio = df_daily['Soiling_ISC_2'] / df_daily['Soiling_ISC_1']\n",
    "\n",
    "# remove dates with rain\n",
    "soiling_ratio.loc[df_daily['Rainfall'] != 0] = np.nan"
   ]
  },
  {
   "cell_type": "code",
   "execution_count": 47,
   "metadata": {},
   "outputs": [],
   "source": [
    "## Remove dates with cleaning\n",
    "\n",
    "# read cleaning log data\n",
    "df_cleaning = pd.read_excel(r'C:\\Users\\sandra.villamar\\OneDrive - EDF Renewable Energy\\Projects\\Soiling Study\\Mojave Test Facility - Weekly Maintenance Form (Feb 2018).xlsx', \n",
    "                            usecols=[2,69], index_col=0)\n",
    "df_cleaning.set_index(pd.to_datetime(df_cleaning.index).date, inplace=True)\n",
    "\n",
    "# only keep dates with cleaning event\n",
    "df_cleaning = df_cleaning.loc[df_cleaning['Is the \"Clean Reference\" Module Cleaned?'] == 'Yes']\n",
    "\n",
    "# if cleaning event occurred\n",
    "for ind in df_cleaning.index:\n",
    "    # remove date from sratio\n",
    "    soiling_ratio.loc[soiling_ratio.index.date == ind] = np.nan"
   ]
  },
  {
   "cell_type": "code",
   "execution_count": 48,
   "metadata": {
    "scrolled": true
   },
   "outputs": [
    {
     "data": {
      "text/plain": [
       "<AxesSubplot:xlabel='date_time'>"
      ]
     },
     "execution_count": 48,
     "metadata": {},
     "output_type": "execute_result"
    },
    {
     "data": {
      "image/png": "[encoded data removed]",
      "text/plain": [
       "<Figure size 432x288 with 1 Axes>"
      ]
     },
     "metadata": {
      "needs_background": "light"
     },
     "output_type": "display_data"
    }
   ],
   "source": [
    "# investigate sratio values\n",
    "soiling_ratio.plot(style='.')"
   ]
  },
  {
   "cell_type": "code",
   "execution_count": 49,
   "metadata": {},
   "outputs": [
    {
     "data": {
      "text/plain": [
       "<AxesSubplot:>"
      ]
     },
     "execution_count": 49,
     "metadata": {},
     "output_type": "execute_result"
    },
    {
     "data": {
      "image/png": "[encoded data removed]",
      "text/plain": [
       "<Figure size 432x288 with 1 Axes>"
      ]
     },
     "metadata": {
      "needs_background": "light"
     },
     "output_type": "display_data"
    }
   ],
   "source": [
    "# investigate sratio values\n",
    "soiling_ratio.plot(kind='box')"
   ]
  },
  {
   "cell_type": "code",
   "execution_count": 50,
   "metadata": {},
   "outputs": [],
   "source": [
    "q1, q3 = soiling_ratio.quantile([.25,.75])\n",
    "iqr = q3 - q1\n",
    "outliers = q1 - (1.5*iqr)"
   ]
  },
  {
   "cell_type": "code",
   "execution_count": 51,
   "metadata": {
    "scrolled": true
   },
   "outputs": [
    {
     "data": {
      "text/plain": [
       "date_time\n",
       "2018-03-01 00:00:00-08:00    0.845912\n",
       "2018-03-05 00:00:00-08:00    0.845297\n",
       "2018-10-22 00:00:00-08:00    0.945650\n",
       "2018-10-23 00:00:00-08:00    0.946082\n",
       "2018-10-24 00:00:00-08:00    0.946743\n",
       "2018-10-25 00:00:00-08:00    0.946648\n",
       "2018-10-26 00:00:00-08:00    0.944385\n",
       "2018-10-27 00:00:00-08:00    0.947039\n",
       "2018-10-28 00:00:00-08:00    0.946751\n",
       "2018-10-29 00:00:00-08:00    0.946826\n",
       "2018-10-30 00:00:00-08:00    0.947595\n",
       "2018-10-31 00:00:00-08:00    0.949866\n",
       "2018-11-01 00:00:00-08:00    0.949892\n",
       "2018-11-02 00:00:00-08:00    0.950966\n",
       "2018-11-03 00:00:00-08:00    0.950319\n",
       "2018-11-04 00:00:00-08:00    0.952778\n",
       "2018-11-05 00:00:00-08:00    0.949598\n",
       "2018-11-06 00:00:00-08:00    0.952373\n",
       "2018-11-07 00:00:00-08:00    0.950267\n",
       "2018-11-08 00:00:00-08:00    0.949364\n",
       "2018-11-09 00:00:00-08:00    0.949171\n",
       "2018-11-10 00:00:00-08:00    0.952388\n",
       "2018-11-11 00:00:00-08:00    0.949611\n",
       "2018-11-12 00:00:00-08:00    0.950993\n",
       "2018-11-13 00:00:00-08:00    0.949698\n",
       "2018-11-14 00:00:00-08:00    0.948231\n",
       "2018-11-15 00:00:00-08:00    0.949989\n",
       "2018-11-16 00:00:00-08:00    0.951550\n",
       "2018-11-17 00:00:00-08:00    0.951315\n",
       "2018-11-18 00:00:00-08:00    0.949502\n",
       "2018-11-19 00:00:00-08:00    0.949438\n",
       "2018-11-20 00:00:00-08:00    0.945087\n",
       "2018-11-21 00:00:00-08:00    0.949778\n",
       "2019-11-05 00:00:00-08:00    0.960459\n",
       "2020-11-05 00:00:00-08:00    0.960240\n",
       "dtype: float64"
      ]
     },
     "execution_count": 51,
     "metadata": {},
     "output_type": "execute_result"
    }
   ],
   "source": [
    "soiling_ratio.loc[(soiling_ratio < outliers)]"
   ]
  },
  {
   "cell_type": "code",
   "execution_count": 52,
   "metadata": {},
   "outputs": [
    {
     "data": {
      "text/plain": [
       "DatetimeIndex([], dtype='datetime64[ns, Etc/GMT+8]', freq=None)"
      ]
     },
     "execution_count": 52,
     "metadata": {},
     "output_type": "execute_result"
    }
   ],
   "source": [
    "# check if all dates exist in index: yes\n",
    "pd.date_range(start = soiling_ratio.index.min(), end = soiling_ratio.index.max()).difference(soiling_ratio.index)"
   ]
  },
  {
   "cell_type": "code",
   "execution_count": 54,
   "metadata": {},
   "outputs": [],
   "source": [
    "# remove first 3 data points due to extremely low values\n",
    "soiling_ratio.loc[soiling_ratio.dropna()[:3].index] = np.nan\n",
    "\n",
    "# remove points between 10/22/2018 - 11/21/2018 due to sudden drop & stuck values\n",
    "start = pd.to_datetime('10/22/2018')\n",
    "end = pd.to_datetime('11/21/2018')\n",
    "soiling_ratio[start:end] = np.nan"
   ]
  },
  {
   "cell_type": "code",
   "execution_count": 55,
   "metadata": {},
   "outputs": [
    {
     "data": {
      "text/plain": [
       "<AxesSubplot:xlabel='date_time'>"
      ]
     },
     "execution_count": 55,
     "metadata": {},
     "output_type": "execute_result"
    },
    {
     "data": {
      "image/png": "[encoded data removed]",
      "text/plain": [
       "<Figure size 432x288 with 1 Axes>"
      ]
     },
     "metadata": {
      "needs_background": "light"
     },
     "output_type": "display_data"
    }
   ],
   "source": [
    "soiling_ratio.plot(style='.')"
   ]
  },
  {
   "cell_type": "code",
   "execution_count": 56,
   "metadata": {},
   "outputs": [],
   "source": [
    "# get change in soiling ratio\n",
    "model_data = pd.DataFrame(\n",
    "    data = np.append(np.nan, (soiling_ratio[1:].values - soiling_ratio[:-1].values)),\n",
    "    index = soiling_ratio.index,\n",
    "    columns = ['y_sratio_change']\n",
    ")"
   ]
  },
  {
   "cell_type": "code",
   "execution_count": 57,
   "metadata": {
    "scrolled": false
   },
   "outputs": [
    {
     "data": {
      "text/html": [
       "<div>\n",
       "<style scoped>\n",
       "    .dataframe tbody tr th:only-of-type {\n",
       "        vertical-align: middle;\n",
       "    }\n",
       "\n",
       "    .dataframe tbody tr th {\n",
       "        vertical-align: top;\n",
       "    }\n",
       "\n",
       "    .dataframe thead th {\n",
       "        text-align: right;\n",
       "    }\n",
       "</style>\n",
       "<table border=\"1\" class=\"dataframe\">\n",
       "  <thead>\n",
       "    <tr style=\"text-align: right;\">\n",
       "      <th></th>\n",
       "      <th>y_sratio_change</th>\n",
       "    </tr>\n",
       "    <tr>\n",
       "      <th>date_time</th>\n",
       "      <th></th>\n",
       "    </tr>\n",
       "  </thead>\n",
       "  <tbody>\n",
       "    <tr>\n",
       "      <th>2018-03-08 00:00:00-08:00</th>\n",
       "      <td>-0.003419</td>\n",
       "    </tr>\n",
       "    <tr>\n",
       "      <th>2018-03-09 00:00:00-08:00</th>\n",
       "      <td>-0.000144</td>\n",
       "    </tr>\n",
       "    <tr>\n",
       "      <th>2018-03-18 00:00:00-08:00</th>\n",
       "      <td>0.001519</td>\n",
       "    </tr>\n",
       "    <tr>\n",
       "      <th>2018-03-19 00:00:00-08:00</th>\n",
       "      <td>-0.001188</td>\n",
       "    </tr>\n",
       "    <tr>\n",
       "      <th>2018-03-25 00:00:00-08:00</th>\n",
       "      <td>0.000612</td>\n",
       "    </tr>\n",
       "    <tr>\n",
       "      <th>...</th>\n",
       "      <td>...</td>\n",
       "    </tr>\n",
       "    <tr>\n",
       "      <th>2021-02-05 00:00:00-08:00</th>\n",
       "      <td>0.001230</td>\n",
       "    </tr>\n",
       "    <tr>\n",
       "      <th>2021-02-06 00:00:00-08:00</th>\n",
       "      <td>-0.001017</td>\n",
       "    </tr>\n",
       "    <tr>\n",
       "      <th>2021-02-07 00:00:00-08:00</th>\n",
       "      <td>0.000708</td>\n",
       "    </tr>\n",
       "    <tr>\n",
       "      <th>2021-02-08 00:00:00-08:00</th>\n",
       "      <td>0.000036</td>\n",
       "    </tr>\n",
       "    <tr>\n",
       "      <th>2021-02-09 00:00:00-08:00</th>\n",
       "      <td>0.003139</td>\n",
       "    </tr>\n",
       "  </tbody>\n",
       "</table>\n",
       "<p>635 rows × 1 columns</p>\n",
       "</div>"
      ],
      "text/plain": [
       "                           y_sratio_change\n",
       "date_time                                 \n",
       "2018-03-08 00:00:00-08:00        -0.003419\n",
       "2018-03-09 00:00:00-08:00        -0.000144\n",
       "2018-03-18 00:00:00-08:00         0.001519\n",
       "2018-03-19 00:00:00-08:00        -0.001188\n",
       "2018-03-25 00:00:00-08:00         0.000612\n",
       "...                                    ...\n",
       "2021-02-05 00:00:00-08:00         0.001230\n",
       "2021-02-06 00:00:00-08:00        -0.001017\n",
       "2021-02-07 00:00:00-08:00         0.000708\n",
       "2021-02-08 00:00:00-08:00         0.000036\n",
       "2021-02-09 00:00:00-08:00         0.003139\n",
       "\n",
       "[635 rows x 1 columns]"
      ]
     },
     "execution_count": 57,
     "metadata": {},
     "output_type": "execute_result"
    }
   ],
   "source": [
    "model_data.dropna()"
   ]
  },
  {
   "cell_type": "code",
   "execution_count": 58,
   "metadata": {},
   "outputs": [
    {
     "data": {
      "text/plain": [
       "<AxesSubplot:xlabel='date_time'>"
      ]
     },
     "execution_count": 58,
     "metadata": {},
     "output_type": "execute_result"
    },
    {
     "data": {
      "image/png": "[encoded data removed]",
      "text/plain": [
       "<Figure size 432x288 with 1 Axes>"
      ]
     },
     "metadata": {
      "needs_background": "light"
     },
     "output_type": "display_data"
    }
   ],
   "source": [
    "model_data['y_sratio_change'].plot()"
   ]
  },
  {
   "cell_type": "markdown",
   "metadata": {},
   "source": [
    "## X_pm10\n",
    "- present-day pm10 data; average hour measurement in a 24hr period\n",
    "- data location: https://aqs.epa.gov/aqsweb/airdata/download_files.html\n",
    "    - under Daily Data, scroll to Particulates table and download PM10 Mass (81102)\n",
    "    - select rows: where \n",
    "        - Address = ' 923 POOLE STREET, MOJAVE, CA 93501' (closest monitoring site to MTF)\n",
    "        - Sample Duration = '24-HR BLK AVG'\n",
    "    - select column: 'Arithmetic Mean' (average value of the day)"
   ]
  },
  {
   "cell_type": "code",
   "execution_count": 59,
   "metadata": {},
   "outputs": [],
   "source": [
    "## read data\n",
    "pm10_2018 = pd.read_csv(r'C:\\Users\\sandra.villamar\\OneDrive - EDF Renewable Energy\\Projects\\Soiling Study\\pm10_daily_2018.csv', usecols=[9,11,16,23], index_col=1)\n",
    "pm10_2019 = pd.read_csv(r'C:\\Users\\sandra.villamar\\OneDrive - EDF Renewable Energy\\Projects\\Soiling Study\\pm10_daily_2019.csv', usecols=[9,11,16,23], index_col=1)\n",
    "pm10_2020 = pd.read_csv(r'C:\\Users\\sandra.villamar\\OneDrive - EDF Renewable Energy\\Projects\\Soiling Study\\pm10_daily_2020.csv', usecols=[9,11,16,23], index_col=1)\n",
    "\n",
    "\n",
    "## fix pm10_2018 index to match the format from other years\n",
    "new_ind = []\n",
    "for ind in pm10_2018.index:\n",
    "    # separate date components\n",
    "    month, day, year = ind.split('/')\n",
    "    # add 0 paddings\n",
    "    month = month.zfill(2)\n",
    "    day = day.zfill(2)   \n",
    "    # reformat mm/dd/yyyy to yyyy-mm-dd\n",
    "    new_ind.append(year + '-' + month + '-' + day)\n",
    "pm10_2018.index = new_ind\n",
    "\n",
    "\n",
    "## get PM data from location closest to MTF and with given sample duration\n",
    "pm10_2018 = pm10_2018.loc[(pm10_2018['Address'] == ' 923 POOLE STREET, MOJAVE, CA 93501') & (pm10_2018['Sample Duration'] == '24-HR BLK AVG')]\n",
    "pm10_2019 = pm10_2019.loc[(pm10_2019['Address'] == ' 923 POOLE STREET, MOJAVE, CA 93501') & (pm10_2019['Sample Duration'] == '24-HR BLK AVG')]\n",
    "pm10_2020 = pm10_2020.loc[(pm10_2020['Address'] == ' 923 POOLE STREET, MOJAVE, CA 93501') & (pm10_2020['Sample Duration'] == '24-HR BLK AVG')]\n",
    "\n",
    "\n",
    "## combine years of PM data into one df\n",
    "X_pm10 = pd.concat([pm10_2018, pm10_2019, pm10_2020]).drop(columns=['Address', 'Sample Duration'])\n",
    "X_pm10.columns = ['X_pm10']\n",
    "\n",
    "\n",
    "## make index tz aware\n",
    "new_ind = pd.Series(X_pm10.index)\n",
    "for i in range(len(X_pm10)):\n",
    "    new_ind[i] = pd.to_datetime(new_ind[i]).tz_localize(location['timezone'])\n",
    "    \n",
    "# set new index\n",
    "X_pm10.set_index(new_ind, inplace=True)"
   ]
  },
  {
   "cell_type": "code",
   "execution_count": 64,
   "metadata": {},
   "outputs": [
    {
     "data": {
      "text/html": [
       "<div>\n",
       "<style scoped>\n",
       "    .dataframe tbody tr th:only-of-type {\n",
       "        vertical-align: middle;\n",
       "    }\n",
       "\n",
       "    .dataframe tbody tr th {\n",
       "        vertical-align: top;\n",
       "    }\n",
       "\n",
       "    .dataframe thead th {\n",
       "        text-align: right;\n",
       "    }\n",
       "</style>\n",
       "<table border=\"1\" class=\"dataframe\">\n",
       "  <thead>\n",
       "    <tr style=\"text-align: right;\">\n",
       "      <th></th>\n",
       "      <th>X_pm10</th>\n",
       "      <th>y_sratio_change</th>\n",
       "    </tr>\n",
       "  </thead>\n",
       "  <tbody>\n",
       "    <tr>\n",
       "      <th>2018-01-01 00:00:00-08:00</th>\n",
       "      <td>18.0</td>\n",
       "      <td>NaN</td>\n",
       "    </tr>\n",
       "    <tr>\n",
       "      <th>2018-01-02 00:00:00-08:00</th>\n",
       "      <td>15.0</td>\n",
       "      <td>NaN</td>\n",
       "    </tr>\n",
       "    <tr>\n",
       "      <th>2018-01-03 00:00:00-08:00</th>\n",
       "      <td>NaN</td>\n",
       "      <td>NaN</td>\n",
       "    </tr>\n",
       "    <tr>\n",
       "      <th>2018-01-04 00:00:00-08:00</th>\n",
       "      <td>NaN</td>\n",
       "      <td>NaN</td>\n",
       "    </tr>\n",
       "    <tr>\n",
       "      <th>2018-01-05 00:00:00-08:00</th>\n",
       "      <td>NaN</td>\n",
       "      <td>NaN</td>\n",
       "    </tr>\n",
       "    <tr>\n",
       "      <th>...</th>\n",
       "      <td>...</td>\n",
       "      <td>...</td>\n",
       "    </tr>\n",
       "    <tr>\n",
       "      <th>2021-02-06 00:00:00-08:00</th>\n",
       "      <td>NaN</td>\n",
       "      <td>-0.001017</td>\n",
       "    </tr>\n",
       "    <tr>\n",
       "      <th>2021-02-07 00:00:00-08:00</th>\n",
       "      <td>NaN</td>\n",
       "      <td>0.000708</td>\n",
       "    </tr>\n",
       "    <tr>\n",
       "      <th>2021-02-08 00:00:00-08:00</th>\n",
       "      <td>NaN</td>\n",
       "      <td>0.000036</td>\n",
       "    </tr>\n",
       "    <tr>\n",
       "      <th>2021-02-09 00:00:00-08:00</th>\n",
       "      <td>NaN</td>\n",
       "      <td>0.003139</td>\n",
       "    </tr>\n",
       "    <tr>\n",
       "      <th>2021-02-10 00:00:00-08:00</th>\n",
       "      <td>NaN</td>\n",
       "      <td>NaN</td>\n",
       "    </tr>\n",
       "  </tbody>\n",
       "</table>\n",
       "<p>1137 rows × 2 columns</p>\n",
       "</div>"
      ],
      "text/plain": [
       "                           X_pm10  y_sratio_change\n",
       "2018-01-01 00:00:00-08:00    18.0              NaN\n",
       "2018-01-02 00:00:00-08:00    15.0              NaN\n",
       "2018-01-03 00:00:00-08:00     NaN              NaN\n",
       "2018-01-04 00:00:00-08:00     NaN              NaN\n",
       "2018-01-05 00:00:00-08:00     NaN              NaN\n",
       "...                           ...              ...\n",
       "2021-02-06 00:00:00-08:00     NaN        -0.001017\n",
       "2021-02-07 00:00:00-08:00     NaN         0.000708\n",
       "2021-02-08 00:00:00-08:00     NaN         0.000036\n",
       "2021-02-09 00:00:00-08:00     NaN         0.003139\n",
       "2021-02-10 00:00:00-08:00     NaN              NaN\n",
       "\n",
       "[1137 rows x 2 columns]"
      ]
     },
     "execution_count": 64,
     "metadata": {},
     "output_type": "execute_result"
    }
   ],
   "source": [
    "# add to model_data\n",
    "model_data = pd.merge(X_pm10, model_data, how='outer', left_index=True, right_index=True)\n",
    "model_data"
   ]
  },
  {
   "cell_type": "code",
   "execution_count": 65,
   "metadata": {},
   "outputs": [
    {
     "data": {
      "text/plain": [
       "<AxesSubplot:>"
      ]
     },
     "execution_count": 65,
     "metadata": {},
     "output_type": "execute_result"
    },
    {
     "data": {
      "image/png": "[encoded data removed]",
      "text/plain": [
       "<Figure size 432x288 with 1 Axes>"
      ]
     },
     "metadata": {
      "needs_background": "light"
     },
     "output_type": "display_data"
    }
   ],
   "source": [
    "model_data['X_pm10'].plot()"
   ]
  },
  {
   "cell_type": "markdown",
   "metadata": {},
   "source": [
    "## X_ws, X_wd, X_rh, X_temp\n",
    "- present-day variables from SolarGIS"
   ]
  },
  {
   "cell_type": "code",
   "execution_count": 66,
   "metadata": {},
   "outputs": [],
   "source": [
    "# read data \n",
    "geodat_data = pd.read_csv(r'C:\\Users\\sandra.villamar\\OneDrive - EDF Renewable Energy\\Projects\\DHI Analysis\\GeoDat_Report_2_17_2021.csv', \n",
    "                          skiprows=47,\n",
    "                          usecols=['Date Time (Local)', 'WS', 'WD', 'RH', 'TEMP'])\n",
    "geodat_data = geodat_data.set_index(['Date Time (Local)'])\n",
    "geodat_data.columns = ['X_temp', 'X_rh', 'X_ws', 'X_wd']"
   ]
  },
  {
   "cell_type": "code",
   "execution_count": 67,
   "metadata": {},
   "outputs": [],
   "source": [
    "# placeholder for new index\n",
    "new_ind = pd.Series(geodat_data.index)\n",
    "\n",
    "for i in range(len(new_ind)):\n",
    "    # convert to timezone w/o DLS\n",
    "    new_ind[i] = pd.to_datetime(new_ind[i]).tz_convert(location['timezone'])\n",
    "\n",
    "#set new index\n",
    "geodat_data.set_index(new_ind, inplace=True)"
   ]
  },
  {
   "cell_type": "code",
   "execution_count": 68,
   "metadata": {},
   "outputs": [],
   "source": [
    "# average hourly to daily\n",
    "geodat_data = geodat_data.resample('D').mean()"
   ]
  },
  {
   "cell_type": "code",
   "execution_count": 69,
   "metadata": {},
   "outputs": [],
   "source": [
    "# add to model_data\n",
    "model_data_og = pd.merge(geodat_data, model_data, how='outer', left_index=True, right_index=True)\n",
    "model_data = model_data_og.dropna()"
   ]
  },
  {
   "cell_type": "markdown",
   "metadata": {},
   "source": [
    "## Export model_data"
   ]
  },
  {
   "cell_type": "code",
   "execution_count": 71,
   "metadata": {},
   "outputs": [
    {
     "data": {
      "text/html": [
       "<div>\n",
       "<style scoped>\n",
       "    .dataframe tbody tr th:only-of-type {\n",
       "        vertical-align: middle;\n",
       "    }\n",
       "\n",
       "    .dataframe tbody tr th {\n",
       "        vertical-align: top;\n",
       "    }\n",
       "\n",
       "    .dataframe thead th {\n",
       "        text-align: right;\n",
       "    }\n",
       "</style>\n",
       "<table border=\"1\" class=\"dataframe\">\n",
       "  <thead>\n",
       "    <tr style=\"text-align: right;\">\n",
       "      <th></th>\n",
       "      <th>X_temp</th>\n",
       "      <th>X_rh</th>\n",
       "      <th>X_ws</th>\n",
       "      <th>X_wd</th>\n",
       "      <th>X_pm10</th>\n",
       "      <th>y_sratio_change</th>\n",
       "    </tr>\n",
       "  </thead>\n",
       "  <tbody>\n",
       "    <tr>\n",
       "      <th>2018-03-08 00:00:00-08:00</th>\n",
       "      <td>12.537500</td>\n",
       "      <td>27.895833</td>\n",
       "      <td>3.158333</td>\n",
       "      <td>291.333333</td>\n",
       "      <td>13.0</td>\n",
       "      <td>-0.003419</td>\n",
       "    </tr>\n",
       "    <tr>\n",
       "      <th>2018-03-09 00:00:00-08:00</th>\n",
       "      <td>13.720833</td>\n",
       "      <td>42.962500</td>\n",
       "      <td>3.316667</td>\n",
       "      <td>280.458333</td>\n",
       "      <td>9.0</td>\n",
       "      <td>-0.000144</td>\n",
       "    </tr>\n",
       "    <tr>\n",
       "      <th>2018-03-18 00:00:00-08:00</th>\n",
       "      <td>6.700000</td>\n",
       "      <td>58.975000</td>\n",
       "      <td>1.962500</td>\n",
       "      <td>207.125000</td>\n",
       "      <td>3.0</td>\n",
       "      <td>0.001519</td>\n",
       "    </tr>\n",
       "    <tr>\n",
       "      <th>2018-03-19 00:00:00-08:00</th>\n",
       "      <td>9.966667</td>\n",
       "      <td>39.808333</td>\n",
       "      <td>2.104167</td>\n",
       "      <td>177.833333</td>\n",
       "      <td>5.0</td>\n",
       "      <td>-0.001188</td>\n",
       "    </tr>\n",
       "    <tr>\n",
       "      <th>2018-03-25 00:00:00-08:00</th>\n",
       "      <td>5.700000</td>\n",
       "      <td>66.700000</td>\n",
       "      <td>4.950000</td>\n",
       "      <td>283.833333</td>\n",
       "      <td>6.0</td>\n",
       "      <td>0.000612</td>\n",
       "    </tr>\n",
       "    <tr>\n",
       "      <th>...</th>\n",
       "      <td>...</td>\n",
       "      <td>...</td>\n",
       "      <td>...</td>\n",
       "      <td>...</td>\n",
       "      <td>...</td>\n",
       "      <td>...</td>\n",
       "    </tr>\n",
       "    <tr>\n",
       "      <th>2020-02-25 00:00:00-08:00</th>\n",
       "      <td>12.329167</td>\n",
       "      <td>32.450000</td>\n",
       "      <td>2.820833</td>\n",
       "      <td>148.500000</td>\n",
       "      <td>16.0</td>\n",
       "      <td>-0.000608</td>\n",
       "    </tr>\n",
       "    <tr>\n",
       "      <th>2020-02-26 00:00:00-08:00</th>\n",
       "      <td>12.083333</td>\n",
       "      <td>14.541667</td>\n",
       "      <td>2.558333</td>\n",
       "      <td>70.583333</td>\n",
       "      <td>20.0</td>\n",
       "      <td>-0.000373</td>\n",
       "    </tr>\n",
       "    <tr>\n",
       "      <th>2020-02-27 00:00:00-08:00</th>\n",
       "      <td>13.450000</td>\n",
       "      <td>16.154167</td>\n",
       "      <td>2.333333</td>\n",
       "      <td>147.000000</td>\n",
       "      <td>14.0</td>\n",
       "      <td>0.000136</td>\n",
       "    </tr>\n",
       "    <tr>\n",
       "      <th>2020-02-28 00:00:00-08:00</th>\n",
       "      <td>15.312500</td>\n",
       "      <td>14.445833</td>\n",
       "      <td>1.970833</td>\n",
       "      <td>96.541667</td>\n",
       "      <td>15.0</td>\n",
       "      <td>0.002048</td>\n",
       "    </tr>\n",
       "    <tr>\n",
       "      <th>2020-02-29 00:00:00-08:00</th>\n",
       "      <td>14.054167</td>\n",
       "      <td>22.075000</td>\n",
       "      <td>3.495833</td>\n",
       "      <td>252.791667</td>\n",
       "      <td>22.0</td>\n",
       "      <td>-0.000503</td>\n",
       "    </tr>\n",
       "  </tbody>\n",
       "</table>\n",
       "<p>408 rows × 6 columns</p>\n",
       "</div>"
      ],
      "text/plain": [
       "                              X_temp       X_rh      X_ws        X_wd  X_pm10  \\\n",
       "2018-03-08 00:00:00-08:00  12.537500  27.895833  3.158333  291.333333    13.0   \n",
       "2018-03-09 00:00:00-08:00  13.720833  42.962500  3.316667  280.458333     9.0   \n",
       "2018-03-18 00:00:00-08:00   6.700000  58.975000  1.962500  207.125000     3.0   \n",
       "2018-03-19 00:00:00-08:00   9.966667  39.808333  2.104167  177.833333     5.0   \n",
       "2018-03-25 00:00:00-08:00   5.700000  66.700000  4.950000  283.833333     6.0   \n",
       "...                              ...        ...       ...         ...     ...   \n",
       "2020-02-25 00:00:00-08:00  12.329167  32.450000  2.820833  148.500000    16.0   \n",
       "2020-02-26 00:00:00-08:00  12.083333  14.541667  2.558333   70.583333    20.0   \n",
       "2020-02-27 00:00:00-08:00  13.450000  16.154167  2.333333  147.000000    14.0   \n",
       "2020-02-28 00:00:00-08:00  15.312500  14.445833  1.970833   96.541667    15.0   \n",
       "2020-02-29 00:00:00-08:00  14.054167  22.075000  3.495833  252.791667    22.0   \n",
       "\n",
       "                           y_sratio_change  \n",
       "2018-03-08 00:00:00-08:00        -0.003419  \n",
       "2018-03-09 00:00:00-08:00        -0.000144  \n",
       "2018-03-18 00:00:00-08:00         0.001519  \n",
       "2018-03-19 00:00:00-08:00        -0.001188  \n",
       "2018-03-25 00:00:00-08:00         0.000612  \n",
       "...                                    ...  \n",
       "2020-02-25 00:00:00-08:00        -0.000608  \n",
       "2020-02-26 00:00:00-08:00        -0.000373  \n",
       "2020-02-27 00:00:00-08:00         0.000136  \n",
       "2020-02-28 00:00:00-08:00         0.002048  \n",
       "2020-02-29 00:00:00-08:00        -0.000503  \n",
       "\n",
       "[408 rows x 6 columns]"
      ]
     },
     "execution_count": 71,
     "metadata": {},
     "output_type": "execute_result"
    }
   ],
   "source": [
    "model_data"
   ]
  },
  {
   "cell_type": "code",
   "execution_count": 72,
   "metadata": {},
   "outputs": [],
   "source": [
    "model_data.to_pickle('./model_data.pkl')"
   ]
  },
  {
   "cell_type": "markdown",
   "metadata": {},
   "source": [
    "# Data for ANN-8\n",
    "- X (matrix of observations): cols = PM10, WS, WD, RH, Temp + (prev day) PM10, WS, RH\n",
    "- y (vector): daily change in SR"
   ]
  },
  {
   "cell_type": "code",
   "execution_count": 73,
   "metadata": {},
   "outputs": [
    {
     "data": {
      "text/plain": [
       "DatetimeIndex([], dtype='datetime64[ns, Etc/GMT+8]', freq=None)"
      ]
     },
     "execution_count": 73,
     "metadata": {},
     "output_type": "execute_result"
    }
   ],
   "source": [
    "# check if all dates exist in index so prev day calc is correct\n",
    "pd.date_range(start = model_data_og.index.min(), end = model_data_og.index.max()).difference(model_data_og.index)"
   ]
  },
  {
   "cell_type": "code",
   "execution_count": 80,
   "metadata": {
    "scrolled": false
   },
   "outputs": [
    {
     "data": {
      "text/html": [
       "<div>\n",
       "<style scoped>\n",
       "    .dataframe tbody tr th:only-of-type {\n",
       "        vertical-align: middle;\n",
       "    }\n",
       "\n",
       "    .dataframe tbody tr th {\n",
       "        vertical-align: top;\n",
       "    }\n",
       "\n",
       "    .dataframe thead th {\n",
       "        text-align: right;\n",
       "    }\n",
       "</style>\n",
       "<table border=\"1\" class=\"dataframe\">\n",
       "  <thead>\n",
       "    <tr style=\"text-align: right;\">\n",
       "      <th></th>\n",
       "      <th>X_temp</th>\n",
       "      <th>X_rh</th>\n",
       "      <th>X_ws</th>\n",
       "      <th>X_wd</th>\n",
       "      <th>X_pm10</th>\n",
       "      <th>y_sratio_change</th>\n",
       "      <th>X_pm10_prev</th>\n",
       "      <th>X_ws_prev</th>\n",
       "      <th>X_rh_prev</th>\n",
       "    </tr>\n",
       "  </thead>\n",
       "  <tbody>\n",
       "    <tr>\n",
       "      <th>2018-03-08 00:00:00-08:00</th>\n",
       "      <td>12.537500</td>\n",
       "      <td>27.895833</td>\n",
       "      <td>3.158333</td>\n",
       "      <td>291.333333</td>\n",
       "      <td>13.0</td>\n",
       "      <td>-0.003419</td>\n",
       "      <td>9.0</td>\n",
       "      <td>1.712500</td>\n",
       "      <td>11.100000</td>\n",
       "    </tr>\n",
       "    <tr>\n",
       "      <th>2018-03-09 00:00:00-08:00</th>\n",
       "      <td>13.720833</td>\n",
       "      <td>42.962500</td>\n",
       "      <td>3.316667</td>\n",
       "      <td>280.458333</td>\n",
       "      <td>9.0</td>\n",
       "      <td>-0.000144</td>\n",
       "      <td>13.0</td>\n",
       "      <td>3.158333</td>\n",
       "      <td>27.895833</td>\n",
       "    </tr>\n",
       "    <tr>\n",
       "      <th>2018-03-18 00:00:00-08:00</th>\n",
       "      <td>6.700000</td>\n",
       "      <td>58.975000</td>\n",
       "      <td>1.962500</td>\n",
       "      <td>207.125000</td>\n",
       "      <td>3.0</td>\n",
       "      <td>0.001519</td>\n",
       "      <td>1.0</td>\n",
       "      <td>3.479167</td>\n",
       "      <td>71.158333</td>\n",
       "    </tr>\n",
       "    <tr>\n",
       "      <th>2018-03-19 00:00:00-08:00</th>\n",
       "      <td>9.966667</td>\n",
       "      <td>39.808333</td>\n",
       "      <td>2.104167</td>\n",
       "      <td>177.833333</td>\n",
       "      <td>5.0</td>\n",
       "      <td>-0.001188</td>\n",
       "      <td>3.0</td>\n",
       "      <td>1.962500</td>\n",
       "      <td>58.975000</td>\n",
       "    </tr>\n",
       "    <tr>\n",
       "      <th>2018-03-25 00:00:00-08:00</th>\n",
       "      <td>5.700000</td>\n",
       "      <td>66.700000</td>\n",
       "      <td>4.950000</td>\n",
       "      <td>283.833333</td>\n",
       "      <td>6.0</td>\n",
       "      <td>0.000612</td>\n",
       "      <td>8.0</td>\n",
       "      <td>4.183333</td>\n",
       "      <td>67.991667</td>\n",
       "    </tr>\n",
       "    <tr>\n",
       "      <th>...</th>\n",
       "      <td>...</td>\n",
       "      <td>...</td>\n",
       "      <td>...</td>\n",
       "      <td>...</td>\n",
       "      <td>...</td>\n",
       "      <td>...</td>\n",
       "      <td>...</td>\n",
       "      <td>...</td>\n",
       "      <td>...</td>\n",
       "    </tr>\n",
       "    <tr>\n",
       "      <th>2020-02-25 00:00:00-08:00</th>\n",
       "      <td>12.329167</td>\n",
       "      <td>32.450000</td>\n",
       "      <td>2.820833</td>\n",
       "      <td>148.500000</td>\n",
       "      <td>16.0</td>\n",
       "      <td>-0.000608</td>\n",
       "      <td>13.0</td>\n",
       "      <td>2.750000</td>\n",
       "      <td>61.229167</td>\n",
       "    </tr>\n",
       "    <tr>\n",
       "      <th>2020-02-26 00:00:00-08:00</th>\n",
       "      <td>12.083333</td>\n",
       "      <td>14.541667</td>\n",
       "      <td>2.558333</td>\n",
       "      <td>70.583333</td>\n",
       "      <td>20.0</td>\n",
       "      <td>-0.000373</td>\n",
       "      <td>16.0</td>\n",
       "      <td>2.820833</td>\n",
       "      <td>32.450000</td>\n",
       "    </tr>\n",
       "    <tr>\n",
       "      <th>2020-02-27 00:00:00-08:00</th>\n",
       "      <td>13.450000</td>\n",
       "      <td>16.154167</td>\n",
       "      <td>2.333333</td>\n",
       "      <td>147.000000</td>\n",
       "      <td>14.0</td>\n",
       "      <td>0.000136</td>\n",
       "      <td>20.0</td>\n",
       "      <td>2.558333</td>\n",
       "      <td>14.541667</td>\n",
       "    </tr>\n",
       "    <tr>\n",
       "      <th>2020-02-28 00:00:00-08:00</th>\n",
       "      <td>15.312500</td>\n",
       "      <td>14.445833</td>\n",
       "      <td>1.970833</td>\n",
       "      <td>96.541667</td>\n",
       "      <td>15.0</td>\n",
       "      <td>0.002048</td>\n",
       "      <td>14.0</td>\n",
       "      <td>2.333333</td>\n",
       "      <td>16.154167</td>\n",
       "    </tr>\n",
       "    <tr>\n",
       "      <th>2020-02-29 00:00:00-08:00</th>\n",
       "      <td>14.054167</td>\n",
       "      <td>22.075000</td>\n",
       "      <td>3.495833</td>\n",
       "      <td>252.791667</td>\n",
       "      <td>22.0</td>\n",
       "      <td>-0.000503</td>\n",
       "      <td>15.0</td>\n",
       "      <td>1.970833</td>\n",
       "      <td>14.445833</td>\n",
       "    </tr>\n",
       "  </tbody>\n",
       "</table>\n",
       "<p>403 rows × 9 columns</p>\n",
       "</div>"
      ],
      "text/plain": [
       "                              X_temp       X_rh      X_ws        X_wd  X_pm10  \\\n",
       "2018-03-08 00:00:00-08:00  12.537500  27.895833  3.158333  291.333333    13.0   \n",
       "2018-03-09 00:00:00-08:00  13.720833  42.962500  3.316667  280.458333     9.0   \n",
       "2018-03-18 00:00:00-08:00   6.700000  58.975000  1.962500  207.125000     3.0   \n",
       "2018-03-19 00:00:00-08:00   9.966667  39.808333  2.104167  177.833333     5.0   \n",
       "2018-03-25 00:00:00-08:00   5.700000  66.700000  4.950000  283.833333     6.0   \n",
       "...                              ...        ...       ...         ...     ...   \n",
       "2020-02-25 00:00:00-08:00  12.329167  32.450000  2.820833  148.500000    16.0   \n",
       "2020-02-26 00:00:00-08:00  12.083333  14.541667  2.558333   70.583333    20.0   \n",
       "2020-02-27 00:00:00-08:00  13.450000  16.154167  2.333333  147.000000    14.0   \n",
       "2020-02-28 00:00:00-08:00  15.312500  14.445833  1.970833   96.541667    15.0   \n",
       "2020-02-29 00:00:00-08:00  14.054167  22.075000  3.495833  252.791667    22.0   \n",
       "\n",
       "                           y_sratio_change  X_pm10_prev  X_ws_prev  X_rh_prev  \n",
       "2018-03-08 00:00:00-08:00        -0.003419          9.0   1.712500  11.100000  \n",
       "2018-03-09 00:00:00-08:00        -0.000144         13.0   3.158333  27.895833  \n",
       "2018-03-18 00:00:00-08:00         0.001519          1.0   3.479167  71.158333  \n",
       "2018-03-19 00:00:00-08:00        -0.001188          3.0   1.962500  58.975000  \n",
       "2018-03-25 00:00:00-08:00         0.000612          8.0   4.183333  67.991667  \n",
       "...                                    ...          ...        ...        ...  \n",
       "2020-02-25 00:00:00-08:00        -0.000608         13.0   2.750000  61.229167  \n",
       "2020-02-26 00:00:00-08:00        -0.000373         16.0   2.820833  32.450000  \n",
       "2020-02-27 00:00:00-08:00         0.000136         20.0   2.558333  14.541667  \n",
       "2020-02-28 00:00:00-08:00         0.002048         14.0   2.333333  16.154167  \n",
       "2020-02-29 00:00:00-08:00        -0.000503         15.0   1.970833  14.445833  \n",
       "\n",
       "[403 rows x 9 columns]"
      ]
     },
     "execution_count": 80,
     "metadata": {},
     "output_type": "execute_result"
    }
   ],
   "source": [
    "# copy data from ANN-5\n",
    "model_data_8 = model_data_og.copy()\n",
    "\n",
    "# add cols of pm10, ws, rh from previous day\n",
    "model_data_8['X_pm10_prev'] = np.append(np.nan, model_data_8['X_pm10'].values[:-1])\n",
    "model_data_8['X_ws_prev'] = np.append(np.nan, model_data_8['X_ws'].values[:-1])\n",
    "model_data_8['X_rh_prev'] = np.append(np.nan, model_data_8['X_rh'].values[:-1])\n",
    "\n",
    "model_data_8.dropna(inplace=True)\n",
    "model_data_8"
   ]
  },
  {
   "cell_type": "code",
   "execution_count": 78,
   "metadata": {},
   "outputs": [],
   "source": [
    "# export data\n",
    "model_data_8.to_pickle('./model_data_8.pkl')"
   ]
  }
 ],
 "metadata": {
  "kernelspec": {
   "display_name": "Python 3",
   "language": "python",
   "name": "python3"
  },
  "language_info": {
   "codemirror_mode": {
    "name": "ipython",
    "version": 3
   },
   "file_extension": ".py",
   "mimetype": "text/x-python",
   "name": "python",
   "nbconvert_exporter": "python",
   "pygments_lexer": "ipython3",
   "version": "3.8.5"
  }
 },
 "nbformat": 4,
 "nbformat_minor": 4
}
